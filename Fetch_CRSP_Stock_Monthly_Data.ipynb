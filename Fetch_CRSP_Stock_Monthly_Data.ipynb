{
 "cells": [
  {
   "cell_type": "code",
   "execution_count": null,
   "metadata": {},
   "outputs": [],
   "source": [
    "import wrds\n",
    "\n",
    "# Connect to WRDS\n",
    "db = wrds.Connection()\n",
    "\n",
    "# Define the query\n",
    "query = \"\"\"\n",
    "SELECT \n",
    "    msf.permno AS permno,\n",
    "    msf.date AS date,\n",
    "    msf.ret AS total_return_incl_dividends,\n",
    "    msf.retx AS return_excl_dividends,\n",
    "    msf.prc AS price,\n",
    "    msf.vol AS volume,\n",
    "    msf.shrout * 1000 AS shares_outstanding,  -- Convert shares outstanding to actual number\n",
    "    msf.hexcd AS exchange_code,\n",
    "    stocknames.ticker AS ticker,\n",
    "    stocknames.comnam AS company_name,\n",
    "    (msf.prc * msf.shrout * 1000) AS market_cap  -- Calculate market cap\n",
    "FROM \n",
    "    crsp.msf AS msf\n",
    "JOIN \n",
    "    crsp.stocknames AS stocknames\n",
    "ON \n",
    "    msf.permno = stocknames.permno\n",
    "WHERE \n",
    "    msf.date >= '1963-07-01' \n",
    "    AND msf.date <= '2024-08-31'\n",
    "    AND msf.hexcd IN (1, 2, 3)\n",
    "    AND stocknames.namedt <= msf.date \n",
    "    AND msf.date <= stocknames.nameenddt  -- Corrected column name\n",
    "ORDER BY \n",
    "    msf.permno, msf.date\n",
    "\"\"\"\n",
    "\n",
    "# Execute the query and fetch the data\n",
    "crsp_data = db.raw_sql(query)\n",
    "\n",
    "# Close the WRDS connection\n",
    "db.close()\n",
    "\n",
    "# Display the first few rows of the data\n",
    "crsp_data.head()\n",
    "\n",
    "crsp_data.to_csv(\"dataset.csv\")"
   ]
  }
 ],
 "metadata": {
  "language_info": {
   "name": "python"
  }
 },
 "nbformat": 4,
 "nbformat_minor": 2
}
